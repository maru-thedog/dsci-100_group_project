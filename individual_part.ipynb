{
 "cells": [
  {
   "cell_type": "code",
   "execution_count": 1,
   "id": "b4e9ff6e-6d0d-4a02-82f0-5ddf4b5d53ec",
   "metadata": {},
   "outputs": [
    {
     "name": "stderr",
     "output_type": "stream",
     "text": [
      "── \u001b[1mAttaching core tidyverse packages\u001b[22m ──────────────────────── tidyverse 2.0.0 ──\n",
      "\u001b[32m✔\u001b[39m \u001b[34mdplyr    \u001b[39m 1.1.4     \u001b[32m✔\u001b[39m \u001b[34mreadr    \u001b[39m 2.1.5\n",
      "\u001b[32m✔\u001b[39m \u001b[34mforcats  \u001b[39m 1.0.0     \u001b[32m✔\u001b[39m \u001b[34mstringr  \u001b[39m 1.5.1\n",
      "\u001b[32m✔\u001b[39m \u001b[34mggplot2  \u001b[39m 3.5.1     \u001b[32m✔\u001b[39m \u001b[34mtibble   \u001b[39m 3.2.1\n",
      "\u001b[32m✔\u001b[39m \u001b[34mlubridate\u001b[39m 1.9.3     \u001b[32m✔\u001b[39m \u001b[34mtidyr    \u001b[39m 1.3.1\n",
      "\u001b[32m✔\u001b[39m \u001b[34mpurrr    \u001b[39m 1.0.2     \n",
      "── \u001b[1mConflicts\u001b[22m ────────────────────────────────────────── tidyverse_conflicts() ──\n",
      "\u001b[31m✖\u001b[39m \u001b[34mdplyr\u001b[39m::\u001b[32mfilter()\u001b[39m masks \u001b[34mstats\u001b[39m::filter()\n",
      "\u001b[31m✖\u001b[39m \u001b[34mdplyr\u001b[39m::\u001b[32mlag()\u001b[39m    masks \u001b[34mstats\u001b[39m::lag()\n",
      "\u001b[36mℹ\u001b[39m Use the conflicted package (\u001b[3m\u001b[34m<http://conflicted.r-lib.org/>\u001b[39m\u001b[23m) to force all conflicts to become errors\n",
      "── \u001b[1mAttaching packages\u001b[22m ────────────────────────────────────── tidymodels 1.1.1 ──\n",
      "\n",
      "\u001b[32m✔\u001b[39m \u001b[34mbroom       \u001b[39m 1.0.6     \u001b[32m✔\u001b[39m \u001b[34mrsample     \u001b[39m 1.2.1\n",
      "\u001b[32m✔\u001b[39m \u001b[34mdials       \u001b[39m 1.3.0     \u001b[32m✔\u001b[39m \u001b[34mtune        \u001b[39m 1.1.2\n",
      "\u001b[32m✔\u001b[39m \u001b[34minfer       \u001b[39m 1.0.7     \u001b[32m✔\u001b[39m \u001b[34mworkflows   \u001b[39m 1.1.4\n",
      "\u001b[32m✔\u001b[39m \u001b[34mmodeldata   \u001b[39m 1.4.0     \u001b[32m✔\u001b[39m \u001b[34mworkflowsets\u001b[39m 1.0.1\n",
      "\u001b[32m✔\u001b[39m \u001b[34mparsnip     \u001b[39m 1.2.1     \u001b[32m✔\u001b[39m \u001b[34myardstick   \u001b[39m 1.3.1\n",
      "\u001b[32m✔\u001b[39m \u001b[34mrecipes     \u001b[39m 1.1.0     \n",
      "\n",
      "── \u001b[1mConflicts\u001b[22m ───────────────────────────────────────── tidymodels_conflicts() ──\n",
      "\u001b[31m✖\u001b[39m \u001b[34mscales\u001b[39m::\u001b[32mdiscard()\u001b[39m masks \u001b[34mpurrr\u001b[39m::discard()\n",
      "\u001b[31m✖\u001b[39m \u001b[34mdplyr\u001b[39m::\u001b[32mfilter()\u001b[39m   masks \u001b[34mstats\u001b[39m::filter()\n",
      "\u001b[31m✖\u001b[39m \u001b[34mrecipes\u001b[39m::\u001b[32mfixed()\u001b[39m  masks \u001b[34mstringr\u001b[39m::fixed()\n",
      "\u001b[31m✖\u001b[39m \u001b[34mdplyr\u001b[39m::\u001b[32mlag()\u001b[39m      masks \u001b[34mstats\u001b[39m::lag()\n",
      "\u001b[31m✖\u001b[39m \u001b[34myardstick\u001b[39m::\u001b[32mspec()\u001b[39m masks \u001b[34mreadr\u001b[39m::spec()\n",
      "\u001b[31m✖\u001b[39m \u001b[34mrecipes\u001b[39m::\u001b[32mstep()\u001b[39m   masks \u001b[34mstats\u001b[39m::step()\n",
      "\u001b[34m•\u001b[39m Dig deeper into tidy modeling with R at \u001b[32mhttps://www.tmwr.org\u001b[39m\n",
      "\n",
      "\n",
      "Attaching package: ‘janitor’\n",
      "\n",
      "\n",
      "The following objects are masked from ‘package:stats’:\n",
      "\n",
      "    chisq.test, fisher.test\n",
      "\n",
      "\n"
     ]
    }
   ],
   "source": [
    "### Run this cell before continuing. \n",
    "library(tidyverse)\n",
    "library(repr)\n",
    "library(tidymodels)\n",
    "library(janitor)"
   ]
  },
  {
   "cell_type": "code",
   "execution_count": 2,
   "id": "831dbdb7-4316-43ea-9b54-ce3e10c81a8b",
   "metadata": {},
   "outputs": [
    {
     "name": "stderr",
     "output_type": "stream",
     "text": [
      "\u001b[1mRows: \u001b[22m\u001b[34m196\u001b[39m \u001b[1mColumns: \u001b[22m\u001b[34m7\u001b[39m\n",
      "\u001b[36m──\u001b[39m \u001b[1mColumn specification\u001b[22m \u001b[36m────────────────────────────────────────────────────────\u001b[39m\n",
      "\u001b[1mDelimiter:\u001b[22m \",\"\n",
      "\u001b[31mchr\u001b[39m (4): experience, hashedEmail, name, gender\n",
      "\u001b[32mdbl\u001b[39m (2): played_hours, Age\n",
      "\u001b[33mlgl\u001b[39m (1): subscribe\n",
      "\n",
      "\u001b[36mℹ\u001b[39m Use `spec()` to retrieve the full column specification for this data.\n",
      "\u001b[36mℹ\u001b[39m Specify the column types or set `show_col_types = FALSE` to quiet this message.\n"
     ]
    },
    {
     "data": {
      "text/html": [
       "5.84591836734694"
      ],
      "text/latex": [
       "5.84591836734694"
      ],
      "text/markdown": [
       "5.84591836734694"
      ],
      "text/plain": [
       "[1] 5.845918"
      ]
     },
     "metadata": {},
     "output_type": "display_data"
    },
    {
     "data": {
      "text/html": [
       "20.520618556701"
      ],
      "text/latex": [
       "20.520618556701"
      ],
      "text/markdown": [
       "20.520618556701"
      ],
      "text/plain": [
       "[1] 20.52062"
      ]
     },
     "metadata": {},
     "output_type": "display_data"
    },
    {
     "name": "stderr",
     "output_type": "stream",
     "text": [
      "\u001b[1mRows: \u001b[22m\u001b[34m1535\u001b[39m \u001b[1mColumns: \u001b[22m\u001b[34m5\u001b[39m\n",
      "\u001b[36m──\u001b[39m \u001b[1mColumn specification\u001b[22m \u001b[36m────────────────────────────────────────────────────────\u001b[39m\n",
      "\u001b[1mDelimiter:\u001b[22m \",\"\n",
      "\u001b[31mchr\u001b[39m (3): hashedEmail, start_time, end_time\n",
      "\u001b[32mdbl\u001b[39m (2): original_start_time, original_end_time\n",
      "\n",
      "\u001b[36mℹ\u001b[39m Use `spec()` to retrieve the full column specification for this data.\n",
      "\u001b[36mℹ\u001b[39m Specify the column types or set `show_col_types = FALSE` to quiet this message.\n"
     ]
    },
    {
     "data": {
      "text/html": [
       "<table class=\"dataframe\">\n",
       "<caption>A tibble: 6 × 7</caption>\n",
       "<thead>\n",
       "\t<tr><th scope=col>experience</th><th scope=col>subscribe</th><th scope=col>hashedEmail</th><th scope=col>played_hours</th><th scope=col>name</th><th scope=col>gender</th><th scope=col>Age</th></tr>\n",
       "\t<tr><th scope=col>&lt;chr&gt;</th><th scope=col>&lt;lgl&gt;</th><th scope=col>&lt;chr&gt;</th><th scope=col>&lt;dbl&gt;</th><th scope=col>&lt;chr&gt;</th><th scope=col>&lt;chr&gt;</th><th scope=col>&lt;dbl&gt;</th></tr>\n",
       "</thead>\n",
       "<tbody>\n",
       "\t<tr><td>Pro    </td><td> TRUE</td><td>f6daba428a5e19a3d47574858c13550499be23603422e6a0ee9728f8b53e192d</td><td>30.3</td><td>Morgan   </td><td>Male  </td><td> 9</td></tr>\n",
       "\t<tr><td>Veteran</td><td> TRUE</td><td>f3c813577c458ba0dfef80996f8f32c93b6e8af1fa939732842f2312358a88e9</td><td> 3.8</td><td>Christian</td><td>Male  </td><td>17</td></tr>\n",
       "\t<tr><td>Veteran</td><td>FALSE</td><td>b674dd7ee0d24096d1c019615ce4d12b20fcbff12d79d3c5a9d2118eb7ccbb28</td><td> 0.0</td><td>Blake    </td><td>Male  </td><td>17</td></tr>\n",
       "\t<tr><td>Amateur</td><td> TRUE</td><td>23fe711e0e3b77f1da7aa221ab1192afe21648d47d2b4fa7a5a659ff443a0eb5</td><td> 0.7</td><td>Flora    </td><td>Female</td><td>21</td></tr>\n",
       "\t<tr><td>Regular</td><td> TRUE</td><td>7dc01f10bf20671ecfccdac23812b1b415acd42c2147cb0af4d48fcce2420f3e</td><td> 0.1</td><td>Kylie    </td><td>Male  </td><td>21</td></tr>\n",
       "\t<tr><td>Amateur</td><td> TRUE</td><td>f58aad5996a435f16b0284a3b267f973f9af99e7a89bee0430055a44fa92f977</td><td> 0.0</td><td>Adrian   </td><td>Female</td><td>17</td></tr>\n",
       "</tbody>\n",
       "</table>\n"
      ],
      "text/latex": [
       "A tibble: 6 × 7\n",
       "\\begin{tabular}{lllllll}\n",
       " experience & subscribe & hashedEmail & played\\_hours & name & gender & Age\\\\\n",
       " <chr> & <lgl> & <chr> & <dbl> & <chr> & <chr> & <dbl>\\\\\n",
       "\\hline\n",
       "\t Pro     &  TRUE & f6daba428a5e19a3d47574858c13550499be23603422e6a0ee9728f8b53e192d & 30.3 & Morgan    & Male   &  9\\\\\n",
       "\t Veteran &  TRUE & f3c813577c458ba0dfef80996f8f32c93b6e8af1fa939732842f2312358a88e9 &  3.8 & Christian & Male   & 17\\\\\n",
       "\t Veteran & FALSE & b674dd7ee0d24096d1c019615ce4d12b20fcbff12d79d3c5a9d2118eb7ccbb28 &  0.0 & Blake     & Male   & 17\\\\\n",
       "\t Amateur &  TRUE & 23fe711e0e3b77f1da7aa221ab1192afe21648d47d2b4fa7a5a659ff443a0eb5 &  0.7 & Flora     & Female & 21\\\\\n",
       "\t Regular &  TRUE & 7dc01f10bf20671ecfccdac23812b1b415acd42c2147cb0af4d48fcce2420f3e &  0.1 & Kylie     & Male   & 21\\\\\n",
       "\t Amateur &  TRUE & f58aad5996a435f16b0284a3b267f973f9af99e7a89bee0430055a44fa92f977 &  0.0 & Adrian    & Female & 17\\\\\n",
       "\\end{tabular}\n"
      ],
      "text/markdown": [
       "\n",
       "A tibble: 6 × 7\n",
       "\n",
       "| experience &lt;chr&gt; | subscribe &lt;lgl&gt; | hashedEmail &lt;chr&gt; | played_hours &lt;dbl&gt; | name &lt;chr&gt; | gender &lt;chr&gt; | Age &lt;dbl&gt; |\n",
       "|---|---|---|---|---|---|---|\n",
       "| Pro     |  TRUE | f6daba428a5e19a3d47574858c13550499be23603422e6a0ee9728f8b53e192d | 30.3 | Morgan    | Male   |  9 |\n",
       "| Veteran |  TRUE | f3c813577c458ba0dfef80996f8f32c93b6e8af1fa939732842f2312358a88e9 |  3.8 | Christian | Male   | 17 |\n",
       "| Veteran | FALSE | b674dd7ee0d24096d1c019615ce4d12b20fcbff12d79d3c5a9d2118eb7ccbb28 |  0.0 | Blake     | Male   | 17 |\n",
       "| Amateur |  TRUE | 23fe711e0e3b77f1da7aa221ab1192afe21648d47d2b4fa7a5a659ff443a0eb5 |  0.7 | Flora     | Female | 21 |\n",
       "| Regular |  TRUE | 7dc01f10bf20671ecfccdac23812b1b415acd42c2147cb0af4d48fcce2420f3e |  0.1 | Kylie     | Male   | 21 |\n",
       "| Amateur |  TRUE | f58aad5996a435f16b0284a3b267f973f9af99e7a89bee0430055a44fa92f977 |  0.0 | Adrian    | Female | 17 |\n",
       "\n"
      ],
      "text/plain": [
       "  experience subscribe\n",
       "1 Pro         TRUE    \n",
       "2 Veteran     TRUE    \n",
       "3 Veteran    FALSE    \n",
       "4 Amateur     TRUE    \n",
       "5 Regular     TRUE    \n",
       "6 Amateur     TRUE    \n",
       "  hashedEmail                                                      played_hours\n",
       "1 f6daba428a5e19a3d47574858c13550499be23603422e6a0ee9728f8b53e192d 30.3        \n",
       "2 f3c813577c458ba0dfef80996f8f32c93b6e8af1fa939732842f2312358a88e9  3.8        \n",
       "3 b674dd7ee0d24096d1c019615ce4d12b20fcbff12d79d3c5a9d2118eb7ccbb28  0.0        \n",
       "4 23fe711e0e3b77f1da7aa221ab1192afe21648d47d2b4fa7a5a659ff443a0eb5  0.7        \n",
       "5 7dc01f10bf20671ecfccdac23812b1b415acd42c2147cb0af4d48fcce2420f3e  0.1        \n",
       "6 f58aad5996a435f16b0284a3b267f973f9af99e7a89bee0430055a44fa92f977  0.0        \n",
       "  name      gender Age\n",
       "1 Morgan    Male    9 \n",
       "2 Christian Male   17 \n",
       "3 Blake     Male   17 \n",
       "4 Flora     Female 21 \n",
       "5 Kylie     Male   21 \n",
       "6 Adrian    Female 17 "
      ]
     },
     "metadata": {},
     "output_type": "display_data"
    }
   ],
   "source": [
    "players <- read_csv(\"https://github.com/maru-thedog/dsci-100_group_project/raw/refs/heads/main/players.csv\")\n",
    "mean_played_hours <- mean(players$played_hours, na.rm = TRUE)\n",
    "mean_age <- mean(players$Age, na.rm = TRUE)\n",
    "mean_played_hours\n",
    "mean_age\n",
    "\n",
    "sessions <- read_csv(\"https://github.com/maru-thedog/dsci-100_group_project/raw/refs/heads/main/sessions.csv\")\n",
    "sessions <- sessions |> \n",
    "            clean_names() |>\n",
    "            mutate(start_time = dmy_hm(start_time)) |>\n",
    "            mutate(end_time = dmy_hm(end_time)) |>\n",
    "            select(-starts_with(\"original\")) \n",
    "head(players)"
   ]
  },
  {
   "cell_type": "markdown",
   "id": "7b01e578-c760-4442-bee2-77992ea750fb",
   "metadata": {},
   "source": [
    "# Data Description\n",
    "## Players Data : There are 196 observations and 7 variables\n",
    "* experience : player's experience level\n",
    "* subscribe : they subscribe game newsletter or not\n",
    "* hashedEmail : hash of player's email  \n",
    "* played_hurs : total hours of game play\n",
    "* name : player's name\n",
    "* gender : player's gender\n",
    "* Age : player's age\n",
    "\n",
    "## Sessons Data : There are 1535 observations and 5 variables\n",
    "* hashedEmail : hash of player's email   \n",
    "* start_time : start time of the game session\n",
    "* end_time : end time of the game session\n",
    "* original_start_time : Unix timestamp for start_time (by searching)\n",
    "* original_end_time : Unix timestamp for end_time (by searching)\n",
    "\n",
    "## Issues\n",
    "* some age values are missing, which is very important in analyzing a game related data\n",
    "\n",
    "\n",
    "# Questions\n",
    "* Can player's experience and age predict played hours?\n",
    "\n",
    "# Exploratory Data Analysis and Visualization\n",
    "| Played Hours (mean) | Age(mean) |\n",
    "| -------- | ------- |\n",
    "| 5.85 | 20.52 |"
   ]
  },
  {
   "cell_type": "code",
   "execution_count": 3,
   "id": "3acf7748-0db1-4783-8ded-3d7bc32d4279",
   "metadata": {},
   "outputs": [],
   "source": [
    "# played_hours_histogram <- ggplot(players, aes(x = played_hours)) + \n",
    "#                             geom_histogram(binwidth = 5, fill = \"green\", color = \"black\", alpha = 0.5) +\n",
    "#                             labs(title = \"Distribution of Played Hours\", x = \"Played Hours\", y = \"Frequency\")\n",
    "# played_hours_histogram\n",
    "\n",
    "# experience_played_hours_plot <- ggplot(players, aes(x = experience, y = played_hours, fill = experience)) +\n",
    "#                                 geom_boxplot() +\n",
    "#                                 labs(title = \"Played Hours by Experience Level\", x = \"Experience Level\", y = \"Played Hours\")\n",
    "# experience_played_hours_plot\n",
    "\n",
    "# age_played_hours_plot <- ggplot(players, aes(x = Age, y = played_hours)) +\n",
    "#                         geom_point(color = \"blue\", alpha = 0.5) +\n",
    "#                         labs(title = \"Scatter Plot of Age vs. Played Hours\", x = \"Age\", y = \"Played Hours\") \n",
    "# age_played_hours_plot"
   ]
  },
  {
   "cell_type": "markdown",
   "id": "4856a4e1-8f08-4133-8369-d631c44ef3ed",
   "metadata": {},
   "source": [
    "# Methods and plan\n",
    "* I choose linear regression method. we can use expericen or age as predictor and played hours as response variable\n",
    "* Assume that there is a linear relationship between predictor and response variable\n",
    "* limitations : if the relationship is not linear, we will fail\n",
    "* split data : 75% training and 25% testing / and cross-validation\n",
    "* need to normalilze the values\n",
    "* remove missing data in Age\n",
    "* have to convert experience into numerial valeus"
   ]
  },
  {
   "cell_type": "markdown",
   "id": "d41c5116-3dd5-4852-ac0d-51f813716721",
   "metadata": {},
   "source": [
    "# Group part Group part Group part Group part Group part Group part Group part Group part \n",
    "# Group part Group part Group part Group part Group part Group part Group part Group part \n",
    "# Group part Group part Group part Group part Group part Group part Group part Group part \n",
    "# Group part Group part Group part Group part Group part Group part Group part Group part \n",
    "# Group part Group part Group part Group part Group part Group part Group part Group part "
   ]
  },
  {
   "cell_type": "markdown",
   "id": "64f819f3-3606-462c-831a-6ec785ec8213",
   "metadata": {},
   "source": [
    "# Broad question : Question 2: We would like to know which \"kinds\" of players are most likely to contribute a large amount of data so that we can target those players in our recruiting efforts.\n",
    "# Specific question : Can player's experience and age predict played hours? (knn)"
   ]
  },
  {
   "cell_type": "code",
   "execution_count": 20,
   "id": "1d5bc100-267f-4875-9baa-2705eed47aee",
   "metadata": {},
   "outputs": [
    {
     "data": {
      "text/html": [
       "<table class=\"dataframe\">\n",
       "<caption>A tibble: 2 × 3</caption>\n",
       "<thead>\n",
       "\t<tr><th scope=col>.metric</th><th scope=col>.estimator</th><th scope=col>.estimate</th></tr>\n",
       "\t<tr><th scope=col>&lt;chr&gt;</th><th scope=col>&lt;chr&gt;</th><th scope=col>&lt;dbl&gt;</th></tr>\n",
       "</thead>\n",
       "<tbody>\n",
       "\t<tr><td>accuracy</td><td>multiclass</td><td>0.300000000</td></tr>\n",
       "\t<tr><td>kap     </td><td>multiclass</td><td>0.009620826</td></tr>\n",
       "</tbody>\n",
       "</table>\n"
      ],
      "text/latex": [
       "A tibble: 2 × 3\n",
       "\\begin{tabular}{lll}\n",
       " .metric & .estimator & .estimate\\\\\n",
       " <chr> & <chr> & <dbl>\\\\\n",
       "\\hline\n",
       "\t accuracy & multiclass & 0.300000000\\\\\n",
       "\t kap      & multiclass & 0.009620826\\\\\n",
       "\\end{tabular}\n"
      ],
      "text/markdown": [
       "\n",
       "A tibble: 2 × 3\n",
       "\n",
       "| .metric &lt;chr&gt; | .estimator &lt;chr&gt; | .estimate &lt;dbl&gt; |\n",
       "|---|---|---|\n",
       "| accuracy | multiclass | 0.300000000 |\n",
       "| kap      | multiclass | 0.009620826 |\n",
       "\n"
      ],
      "text/plain": [
       "  .metric  .estimator .estimate  \n",
       "1 accuracy multiclass 0.300000000\n",
       "2 kap      multiclass 0.009620826"
      ]
     },
     "metadata": {},
     "output_type": "display_data"
    }
   ],
   "source": [
    "players <- players |>\n",
    "                mutate(numerical_experience = case_when (experience == \"Beginner\" ~ 1, experience == \"Regular\" ~ 2, experience == \"Amateur\" ~ 3, experience == \"Pro\" ~ 4, experience == \"Veteran\" ~ 5),\n",
    "                      played_hours = as.factor(played_hours), experience = as.factor(experience))\n",
    "\n",
    "\n",
    "# #use experience to predict played hours\n",
    "# experience_split <- initial_split(players, prop = 0.75, strata = played_hours)  \n",
    "# experience_train <- training(experience_split)   \n",
    "# experience_test <- testing(experience_split)\n",
    "\n",
    "# #experice -> played hours recipe\n",
    "# experience_recipe <- recipe(played_hours ~ numerical_experience , data = experience_train) |>\n",
    "#                    step_scale(all_predictors()) |>\n",
    "#                    step_center(all_predictors())\n",
    "\n",
    "# #experice -> played hours knn specification from k=4, accuracies are same \n",
    "# experience_spec <- nearest_neighbor(weight_func = \"rectangular\", neighbors = 4) |>\n",
    "#       set_engine(\"kknn\") |>\n",
    "#       set_mode(\"classification\")\n",
    "\n",
    "############################################################################################################\n",
    "#checking best k value -> 4 is the best k value\n",
    "# experience_spec <- nearest_neighbor(weight_func = \"rectangular\", neighbors = tune()) |>\n",
    "#       set_engine(\"kknn\") |>\n",
    "#       set_mode(\"classification\")\n",
    "\n",
    "# experience_folds <- vfold_cv(experience_train, v = 5, strata= played_hours)\n",
    "\n",
    "# knn_grid <- tibble(neighbors = c(2, 3, 4, 5, 6))\n",
    "\n",
    "# knn_results <- workflow() |>\n",
    "#                 add_recipe(experience_recipe) |>\n",
    "#                 add_model(experience_spec) |>\n",
    "#                 tune_grid(resamples = experience_folds, grid = knn_grid) |>\n",
    "#                 collect_metrics()\n",
    "# accuracies <- knn_results |>\n",
    "#             filter(.metric == \"accuracy\") \n",
    "# cross_val_plot <- ggplot(accuracies, aes(x = neighbors, y = mean)) +\n",
    "#                     geom_point() +\n",
    "#                     geom_line() +\n",
    "#                     labs(x = \"Number of Neighbors\", y = \"Accuracy\")\n",
    "# cross_val_plot\n",
    "############################################################################################################\n",
    "\n",
    "# experience_fit <- workflow() |>\n",
    "#       add_recipe(experience_recipe) |>\n",
    "#       add_model(experience_spec) |>\n",
    "#       fit(data = experience_train)\n",
    "\n",
    "# experience_test_predictions <- predict(experience_fit , experience_test) |>\n",
    "#       bind_cols(experience_test)\n",
    "\n",
    "# experience_prediction_accuracy <- experience_test_predictions |>\n",
    "#                                     metrics(truth = played_hours, estimate = .pred_class)\n",
    "# experience_prediction_accuracy\n",
    "\n",
    "################################################################################################################\n",
    "################################################################################################################\n",
    "################################################################################################################\n",
    "################################################################################################################\n",
    "################################################################################################################\n",
    "\n",
    "# use age to predict played hours\n",
    "age_split <- initial_split(players, prop = 0.75, strata = Age)  \n",
    "age_train <- training(age_split)   \n",
    "age_test <- testing(age_split)\n",
    "\n",
    "#experice -> played hours recipe\n",
    "age_recipe <- recipe(played_hours ~ Age, data = age_train) |>\n",
    "   step_scale(all_predictors()) |>\n",
    "   step_center(all_predictors())\n",
    "\n",
    "age_spec <- nearest_neighbor(weight_func = \"rectangular\", neighbors = 9) |>\n",
    "      set_engine(\"kknn\") |>\n",
    "      set_mode(\"classification\")\n",
    "\n",
    "############################################################################################################\n",
    "#checking best k value -> 9 is the best k value\n",
    "# age_spec <- nearest_neighbor(weight_func = \"rectangular\", neighbors = tune()) |>\n",
    "#       set_engine(\"kknn\") |>\n",
    "#       set_mode(\"classification\")\n",
    "\n",
    "# age_folds <- vfold_cv(age_train, v = 9, strata= played_hours)\n",
    "\n",
    "# knn_grid <- tibble(neighbors = c(2, 3, 4, 5, 6, 7, 8, 9, 10))\n",
    "\n",
    "# knn_results <- workflow() |>\n",
    "#                 add_recipe(age_recipe) |>\n",
    "#                 add_model(age_spec) |>\n",
    "#                 tune_grid(resamples = age_folds, grid = knn_grid) |>\n",
    "#                 collect_metrics()\n",
    "# accuracies <- knn_results |>\n",
    "#             filter(.metric == \"accuracy\") \n",
    "# cross_val_plot <- ggplot(accuracies, aes(x = neighbors, y = mean)) +\n",
    "#                     geom_point() +\n",
    "#                     geom_line() +\n",
    "#                     labs(x = \"Number of Neighbors\", y = \"Accuracy\")\n",
    "# cross_val_plot\n",
    "############################################################################################################\n",
    "\n",
    "#experice -> played hours knn specification\n",
    "age_spec <- nearest_neighbor(weight_func = \"rectangular\", neighbors = 3) |>\n",
    "              set_engine(\"kknn\") |>\n",
    "              set_mode(\"classification\")\n",
    "\n",
    "age_fit <- workflow() |>\n",
    "      add_recipe(age_recipe) |>\n",
    "      add_model(age_spec) |>\n",
    "      fit(data = age_train)\n",
    "\n",
    "age_test_predictions <- predict(age_fit , age_test) |>\n",
    "      bind_cols(age_test)\n",
    "\n",
    "age_prediction_accuracy <- age_test_predictions |>\n",
    "                            metrics(truth = played_hours, estimate = .pred_class)\n",
    "age_prediction_accuracy\n",
    "\n",
    "\n",
    "################################################################################################################\n",
    "################################################################################################################\n",
    "################################################################################################################\n",
    "################################################################################################################\n",
    "################################################################################################################\n",
    "################################################################################################################\n",
    "################################################################################################################\n",
    "################################################################################################################\n",
    "################################################################################################################\n",
    "################################################################################################################\n",
    "################################################################################################################\n",
    "################################################################################################################\n",
    "################################################################################################################\n",
    "################################################################################################################\n",
    "################################################################################################################\n"
   ]
  },
  {
   "cell_type": "code",
   "execution_count": null,
   "id": "87b79afc-4957-47f6-8f6d-aa671304372c",
   "metadata": {},
   "outputs": [],
   "source": []
  }
 ],
 "metadata": {
  "kernelspec": {
   "display_name": "R",
   "language": "R",
   "name": "ir"
  },
  "language_info": {
   "codemirror_mode": "r",
   "file_extension": ".r",
   "mimetype": "text/x-r-source",
   "name": "R",
   "pygments_lexer": "r",
   "version": "4.3.3"
  }
 },
 "nbformat": 4,
 "nbformat_minor": 5
}
